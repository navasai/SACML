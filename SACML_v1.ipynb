{
  "nbformat": 4,
  "nbformat_minor": 0,
  "metadata": {
    "colab": {
      "name": "SACML_v1.ipynb",
      "provenance": [],
      "collapsed_sections": []
    },
    "kernelspec": {
      "name": "python3",
      "display_name": "Python 3"
    },
    "language_info": {
      "name": "python"
    },
    "widgets": {
      "application/vnd.jupyter.widget-state+json": {
        "55fd074d056d42ff805b86a646c61f6f": {
          "model_module": "@jupyter-widgets/controls",
          "model_name": "HBoxModel",
          "state": {
            "_view_name": "HBoxView",
            "_dom_classes": [],
            "_model_name": "HBoxModel",
            "_view_module": "@jupyter-widgets/controls",
            "_model_module_version": "1.5.0",
            "_view_count": null,
            "_view_module_version": "1.5.0",
            "box_style": "",
            "layout": "IPY_MODEL_709681a61ff74b3e99316560e972ecd0",
            "_model_module": "@jupyter-widgets/controls",
            "children": [
              "IPY_MODEL_9500deb486d543f4b0ab5553727a91af",
              "IPY_MODEL_83894f850a4c4595a64d01c7d123031c"
            ]
          }
        },
        "709681a61ff74b3e99316560e972ecd0": {
          "model_module": "@jupyter-widgets/base",
          "model_name": "LayoutModel",
          "state": {
            "_view_name": "LayoutView",
            "grid_template_rows": null,
            "right": null,
            "justify_content": null,
            "_view_module": "@jupyter-widgets/base",
            "overflow": null,
            "_model_module_version": "1.2.0",
            "_view_count": null,
            "flex_flow": null,
            "width": null,
            "min_width": null,
            "border": null,
            "align_items": null,
            "bottom": null,
            "_model_module": "@jupyter-widgets/base",
            "top": null,
            "grid_column": null,
            "overflow_y": null,
            "overflow_x": null,
            "grid_auto_flow": null,
            "grid_area": null,
            "grid_template_columns": null,
            "flex": null,
            "_model_name": "LayoutModel",
            "justify_items": null,
            "grid_row": null,
            "max_height": null,
            "align_content": null,
            "visibility": null,
            "align_self": null,
            "height": null,
            "min_height": null,
            "padding": null,
            "grid_auto_rows": null,
            "grid_gap": null,
            "max_width": null,
            "order": null,
            "_view_module_version": "1.2.0",
            "grid_template_areas": null,
            "object_position": null,
            "object_fit": null,
            "grid_auto_columns": null,
            "margin": null,
            "display": null,
            "left": null
          }
        },
        "9500deb486d543f4b0ab5553727a91af": {
          "model_module": "@jupyter-widgets/controls",
          "model_name": "FloatProgressModel",
          "state": {
            "_view_name": "ProgressView",
            "style": "IPY_MODEL_b2e84448edad44b384179c40a3e9bb16",
            "_dom_classes": [],
            "description": "100%",
            "_model_name": "FloatProgressModel",
            "bar_style": "success",
            "max": 393560,
            "_view_module": "@jupyter-widgets/controls",
            "_model_module_version": "1.5.0",
            "value": 393560,
            "_view_count": null,
            "_view_module_version": "1.5.0",
            "orientation": "horizontal",
            "min": 0,
            "description_tooltip": null,
            "_model_module": "@jupyter-widgets/controls",
            "layout": "IPY_MODEL_330ad87a5b964b52b07c1e189a0cbaeb"
          }
        },
        "83894f850a4c4595a64d01c7d123031c": {
          "model_module": "@jupyter-widgets/controls",
          "model_name": "HTMLModel",
          "state": {
            "_view_name": "HTMLView",
            "style": "IPY_MODEL_2bcc8c7290374dea8c540903c43546ea",
            "_dom_classes": [],
            "description": "",
            "_model_name": "HTMLModel",
            "placeholder": "​",
            "_view_module": "@jupyter-widgets/controls",
            "_model_module_version": "1.5.0",
            "value": " 393560/393560 [00:11&lt;00:00, 33504.60it/s]",
            "_view_count": null,
            "_view_module_version": "1.5.0",
            "description_tooltip": null,
            "_model_module": "@jupyter-widgets/controls",
            "layout": "IPY_MODEL_13ca294b8c3d4fceb2d7caa1352b6318"
          }
        },
        "b2e84448edad44b384179c40a3e9bb16": {
          "model_module": "@jupyter-widgets/controls",
          "model_name": "ProgressStyleModel",
          "state": {
            "_view_name": "StyleView",
            "_model_name": "ProgressStyleModel",
            "description_width": "initial",
            "_view_module": "@jupyter-widgets/base",
            "_model_module_version": "1.5.0",
            "_view_count": null,
            "_view_module_version": "1.2.0",
            "bar_color": null,
            "_model_module": "@jupyter-widgets/controls"
          }
        },
        "330ad87a5b964b52b07c1e189a0cbaeb": {
          "model_module": "@jupyter-widgets/base",
          "model_name": "LayoutModel",
          "state": {
            "_view_name": "LayoutView",
            "grid_template_rows": null,
            "right": null,
            "justify_content": null,
            "_view_module": "@jupyter-widgets/base",
            "overflow": null,
            "_model_module_version": "1.2.0",
            "_view_count": null,
            "flex_flow": null,
            "width": null,
            "min_width": null,
            "border": null,
            "align_items": null,
            "bottom": null,
            "_model_module": "@jupyter-widgets/base",
            "top": null,
            "grid_column": null,
            "overflow_y": null,
            "overflow_x": null,
            "grid_auto_flow": null,
            "grid_area": null,
            "grid_template_columns": null,
            "flex": null,
            "_model_name": "LayoutModel",
            "justify_items": null,
            "grid_row": null,
            "max_height": null,
            "align_content": null,
            "visibility": null,
            "align_self": null,
            "height": null,
            "min_height": null,
            "padding": null,
            "grid_auto_rows": null,
            "grid_gap": null,
            "max_width": null,
            "order": null,
            "_view_module_version": "1.2.0",
            "grid_template_areas": null,
            "object_position": null,
            "object_fit": null,
            "grid_auto_columns": null,
            "margin": null,
            "display": null,
            "left": null
          }
        },
        "2bcc8c7290374dea8c540903c43546ea": {
          "model_module": "@jupyter-widgets/controls",
          "model_name": "DescriptionStyleModel",
          "state": {
            "_view_name": "StyleView",
            "_model_name": "DescriptionStyleModel",
            "description_width": "",
            "_view_module": "@jupyter-widgets/base",
            "_model_module_version": "1.5.0",
            "_view_count": null,
            "_view_module_version": "1.2.0",
            "_model_module": "@jupyter-widgets/controls"
          }
        },
        "13ca294b8c3d4fceb2d7caa1352b6318": {
          "model_module": "@jupyter-widgets/base",
          "model_name": "LayoutModel",
          "state": {
            "_view_name": "LayoutView",
            "grid_template_rows": null,
            "right": null,
            "justify_content": null,
            "_view_module": "@jupyter-widgets/base",
            "overflow": null,
            "_model_module_version": "1.2.0",
            "_view_count": null,
            "flex_flow": null,
            "width": null,
            "min_width": null,
            "border": null,
            "align_items": null,
            "bottom": null,
            "_model_module": "@jupyter-widgets/base",
            "top": null,
            "grid_column": null,
            "overflow_y": null,
            "overflow_x": null,
            "grid_auto_flow": null,
            "grid_area": null,
            "grid_template_columns": null,
            "flex": null,
            "_model_name": "LayoutModel",
            "justify_items": null,
            "grid_row": null,
            "max_height": null,
            "align_content": null,
            "visibility": null,
            "align_self": null,
            "height": null,
            "min_height": null,
            "padding": null,
            "grid_auto_rows": null,
            "grid_gap": null,
            "max_width": null,
            "order": null,
            "_view_module_version": "1.2.0",
            "grid_template_areas": null,
            "object_position": null,
            "object_fit": null,
            "grid_auto_columns": null,
            "margin": null,
            "display": null,
            "left": null
          }
        },
        "4dfdd60f44cf4f298d9f90a47b8adb28": {
          "model_module": "@jupyter-widgets/controls",
          "model_name": "HBoxModel",
          "state": {
            "_view_name": "HBoxView",
            "_dom_classes": [],
            "_model_name": "HBoxModel",
            "_view_module": "@jupyter-widgets/controls",
            "_model_module_version": "1.5.0",
            "_view_count": null,
            "_view_module_version": "1.5.0",
            "box_style": "",
            "layout": "IPY_MODEL_63bfcbb848414815ba3d802c6f4b7f55",
            "_model_module": "@jupyter-widgets/controls",
            "children": [
              "IPY_MODEL_773b5423f5c242c98f486209911fd291",
              "IPY_MODEL_aefbaceac21e4aa9abe4507efa0be19b"
            ]
          }
        },
        "63bfcbb848414815ba3d802c6f4b7f55": {
          "model_module": "@jupyter-widgets/base",
          "model_name": "LayoutModel",
          "state": {
            "_view_name": "LayoutView",
            "grid_template_rows": null,
            "right": null,
            "justify_content": null,
            "_view_module": "@jupyter-widgets/base",
            "overflow": null,
            "_model_module_version": "1.2.0",
            "_view_count": null,
            "flex_flow": null,
            "width": null,
            "min_width": null,
            "border": null,
            "align_items": null,
            "bottom": null,
            "_model_module": "@jupyter-widgets/base",
            "top": null,
            "grid_column": null,
            "overflow_y": null,
            "overflow_x": null,
            "grid_auto_flow": null,
            "grid_area": null,
            "grid_template_columns": null,
            "flex": null,
            "_model_name": "LayoutModel",
            "justify_items": null,
            "grid_row": null,
            "max_height": null,
            "align_content": null,
            "visibility": null,
            "align_self": null,
            "height": null,
            "min_height": null,
            "padding": null,
            "grid_auto_rows": null,
            "grid_gap": null,
            "max_width": null,
            "order": null,
            "_view_module_version": "1.2.0",
            "grid_template_areas": null,
            "object_position": null,
            "object_fit": null,
            "grid_auto_columns": null,
            "margin": null,
            "display": null,
            "left": null
          }
        },
        "773b5423f5c242c98f486209911fd291": {
          "model_module": "@jupyter-widgets/controls",
          "model_name": "FloatProgressModel",
          "state": {
            "_view_name": "ProgressView",
            "style": "IPY_MODEL_360cb821dff4489c97243424e3ce8c5d",
            "_dom_classes": [],
            "description": "100%",
            "_model_name": "FloatProgressModel",
            "bar_style": "success",
            "max": 84678,
            "_view_module": "@jupyter-widgets/controls",
            "_model_module_version": "1.5.0",
            "value": 84678,
            "_view_count": null,
            "_view_module_version": "1.5.0",
            "orientation": "horizontal",
            "min": 0,
            "description_tooltip": null,
            "_model_module": "@jupyter-widgets/controls",
            "layout": "IPY_MODEL_85b6a81a6ef94e8080a747fafafdfdf9"
          }
        },
        "aefbaceac21e4aa9abe4507efa0be19b": {
          "model_module": "@jupyter-widgets/controls",
          "model_name": "HTMLModel",
          "state": {
            "_view_name": "HTMLView",
            "style": "IPY_MODEL_09ca3b2ecec64b97989a44a15471fd6a",
            "_dom_classes": [],
            "description": "",
            "_model_name": "HTMLModel",
            "placeholder": "​",
            "_view_module": "@jupyter-widgets/controls",
            "_model_module_version": "1.5.0",
            "value": " 84678/84678 [00:11&lt;00:00, 7560.35it/s]",
            "_view_count": null,
            "_view_module_version": "1.5.0",
            "description_tooltip": null,
            "_model_module": "@jupyter-widgets/controls",
            "layout": "IPY_MODEL_0f29a9140a774342a579882efa2ce94a"
          }
        },
        "360cb821dff4489c97243424e3ce8c5d": {
          "model_module": "@jupyter-widgets/controls",
          "model_name": "ProgressStyleModel",
          "state": {
            "_view_name": "StyleView",
            "_model_name": "ProgressStyleModel",
            "description_width": "initial",
            "_view_module": "@jupyter-widgets/base",
            "_model_module_version": "1.5.0",
            "_view_count": null,
            "_view_module_version": "1.2.0",
            "bar_color": null,
            "_model_module": "@jupyter-widgets/controls"
          }
        },
        "85b6a81a6ef94e8080a747fafafdfdf9": {
          "model_module": "@jupyter-widgets/base",
          "model_name": "LayoutModel",
          "state": {
            "_view_name": "LayoutView",
            "grid_template_rows": null,
            "right": null,
            "justify_content": null,
            "_view_module": "@jupyter-widgets/base",
            "overflow": null,
            "_model_module_version": "1.2.0",
            "_view_count": null,
            "flex_flow": null,
            "width": null,
            "min_width": null,
            "border": null,
            "align_items": null,
            "bottom": null,
            "_model_module": "@jupyter-widgets/base",
            "top": null,
            "grid_column": null,
            "overflow_y": null,
            "overflow_x": null,
            "grid_auto_flow": null,
            "grid_area": null,
            "grid_template_columns": null,
            "flex": null,
            "_model_name": "LayoutModel",
            "justify_items": null,
            "grid_row": null,
            "max_height": null,
            "align_content": null,
            "visibility": null,
            "align_self": null,
            "height": null,
            "min_height": null,
            "padding": null,
            "grid_auto_rows": null,
            "grid_gap": null,
            "max_width": null,
            "order": null,
            "_view_module_version": "1.2.0",
            "grid_template_areas": null,
            "object_position": null,
            "object_fit": null,
            "grid_auto_columns": null,
            "margin": null,
            "display": null,
            "left": null
          }
        },
        "09ca3b2ecec64b97989a44a15471fd6a": {
          "model_module": "@jupyter-widgets/controls",
          "model_name": "DescriptionStyleModel",
          "state": {
            "_view_name": "StyleView",
            "_model_name": "DescriptionStyleModel",
            "description_width": "",
            "_view_module": "@jupyter-widgets/base",
            "_model_module_version": "1.5.0",
            "_view_count": null,
            "_view_module_version": "1.2.0",
            "_model_module": "@jupyter-widgets/controls"
          }
        },
        "0f29a9140a774342a579882efa2ce94a": {
          "model_module": "@jupyter-widgets/base",
          "model_name": "LayoutModel",
          "state": {
            "_view_name": "LayoutView",
            "grid_template_rows": null,
            "right": null,
            "justify_content": null,
            "_view_module": "@jupyter-widgets/base",
            "overflow": null,
            "_model_module_version": "1.2.0",
            "_view_count": null,
            "flex_flow": null,
            "width": null,
            "min_width": null,
            "border": null,
            "align_items": null,
            "bottom": null,
            "_model_module": "@jupyter-widgets/base",
            "top": null,
            "grid_column": null,
            "overflow_y": null,
            "overflow_x": null,
            "grid_auto_flow": null,
            "grid_area": null,
            "grid_template_columns": null,
            "flex": null,
            "_model_name": "LayoutModel",
            "justify_items": null,
            "grid_row": null,
            "max_height": null,
            "align_content": null,
            "visibility": null,
            "align_self": null,
            "height": null,
            "min_height": null,
            "padding": null,
            "grid_auto_rows": null,
            "grid_gap": null,
            "max_width": null,
            "order": null,
            "_view_module_version": "1.2.0",
            "grid_template_areas": null,
            "object_position": null,
            "object_fit": null,
            "grid_auto_columns": null,
            "margin": null,
            "display": null,
            "left": null
          }
        },
        "e1b180c2184540bfa25eac97d3ef7ff6": {
          "model_module": "@jupyter-widgets/controls",
          "model_name": "HBoxModel",
          "state": {
            "_view_name": "HBoxView",
            "_dom_classes": [],
            "_model_name": "HBoxModel",
            "_view_module": "@jupyter-widgets/controls",
            "_model_module_version": "1.5.0",
            "_view_count": null,
            "_view_module_version": "1.5.0",
            "box_style": "",
            "layout": "IPY_MODEL_05763f277d7f47b1b564b34c46e6df17",
            "_model_module": "@jupyter-widgets/controls",
            "children": [
              "IPY_MODEL_a643f8c7a92e470c8c1f678cdb20951c",
              "IPY_MODEL_371366a23c6d4b76bc5daf7516bbdbb2"
            ]
          }
        },
        "05763f277d7f47b1b564b34c46e6df17": {
          "model_module": "@jupyter-widgets/base",
          "model_name": "LayoutModel",
          "state": {
            "_view_name": "LayoutView",
            "grid_template_rows": null,
            "right": null,
            "justify_content": null,
            "_view_module": "@jupyter-widgets/base",
            "overflow": null,
            "_model_module_version": "1.2.0",
            "_view_count": null,
            "flex_flow": null,
            "width": null,
            "min_width": null,
            "border": null,
            "align_items": null,
            "bottom": null,
            "_model_module": "@jupyter-widgets/base",
            "top": null,
            "grid_column": null,
            "overflow_y": null,
            "overflow_x": null,
            "grid_auto_flow": null,
            "grid_area": null,
            "grid_template_columns": null,
            "flex": null,
            "_model_name": "LayoutModel",
            "justify_items": null,
            "grid_row": null,
            "max_height": null,
            "align_content": null,
            "visibility": null,
            "align_self": null,
            "height": null,
            "min_height": null,
            "padding": null,
            "grid_auto_rows": null,
            "grid_gap": null,
            "max_width": null,
            "order": null,
            "_view_module_version": "1.2.0",
            "grid_template_areas": null,
            "object_position": null,
            "object_fit": null,
            "grid_auto_columns": null,
            "margin": null,
            "display": null,
            "left": null
          }
        },
        "a643f8c7a92e470c8c1f678cdb20951c": {
          "model_module": "@jupyter-widgets/controls",
          "model_name": "FloatProgressModel",
          "state": {
            "_view_name": "ProgressView",
            "style": "IPY_MODEL_a48a9ab1dbd347beaed55ec0b43acf60",
            "_dom_classes": [],
            "description": "100%",
            "_model_name": "FloatProgressModel",
            "bar_style": "success",
            "max": 84362,
            "_view_module": "@jupyter-widgets/controls",
            "_model_module_version": "1.5.0",
            "value": 84362,
            "_view_count": null,
            "_view_module_version": "1.5.0",
            "orientation": "horizontal",
            "min": 0,
            "description_tooltip": null,
            "_model_module": "@jupyter-widgets/controls",
            "layout": "IPY_MODEL_29ee078b9b984839b96a7d5111f3f9ec"
          }
        },
        "371366a23c6d4b76bc5daf7516bbdbb2": {
          "model_module": "@jupyter-widgets/controls",
          "model_name": "HTMLModel",
          "state": {
            "_view_name": "HTMLView",
            "style": "IPY_MODEL_da68282ba4554b1c8a8b11d8a0910319",
            "_dom_classes": [],
            "description": "",
            "_model_name": "HTMLModel",
            "placeholder": "​",
            "_view_module": "@jupyter-widgets/controls",
            "_model_module_version": "1.5.0",
            "value": " 84362/84362 [00:16&lt;00:00, 5035.44it/s]",
            "_view_count": null,
            "_view_module_version": "1.5.0",
            "description_tooltip": null,
            "_model_module": "@jupyter-widgets/controls",
            "layout": "IPY_MODEL_311a6a70532542418a3937c3693587d7"
          }
        },
        "a48a9ab1dbd347beaed55ec0b43acf60": {
          "model_module": "@jupyter-widgets/controls",
          "model_name": "ProgressStyleModel",
          "state": {
            "_view_name": "StyleView",
            "_model_name": "ProgressStyleModel",
            "description_width": "initial",
            "_view_module": "@jupyter-widgets/base",
            "_model_module_version": "1.5.0",
            "_view_count": null,
            "_view_module_version": "1.2.0",
            "bar_color": null,
            "_model_module": "@jupyter-widgets/controls"
          }
        },
        "29ee078b9b984839b96a7d5111f3f9ec": {
          "model_module": "@jupyter-widgets/base",
          "model_name": "LayoutModel",
          "state": {
            "_view_name": "LayoutView",
            "grid_template_rows": null,
            "right": null,
            "justify_content": null,
            "_view_module": "@jupyter-widgets/base",
            "overflow": null,
            "_model_module_version": "1.2.0",
            "_view_count": null,
            "flex_flow": null,
            "width": null,
            "min_width": null,
            "border": null,
            "align_items": null,
            "bottom": null,
            "_model_module": "@jupyter-widgets/base",
            "top": null,
            "grid_column": null,
            "overflow_y": null,
            "overflow_x": null,
            "grid_auto_flow": null,
            "grid_area": null,
            "grid_template_columns": null,
            "flex": null,
            "_model_name": "LayoutModel",
            "justify_items": null,
            "grid_row": null,
            "max_height": null,
            "align_content": null,
            "visibility": null,
            "align_self": null,
            "height": null,
            "min_height": null,
            "padding": null,
            "grid_auto_rows": null,
            "grid_gap": null,
            "max_width": null,
            "order": null,
            "_view_module_version": "1.2.0",
            "grid_template_areas": null,
            "object_position": null,
            "object_fit": null,
            "grid_auto_columns": null,
            "margin": null,
            "display": null,
            "left": null
          }
        },
        "da68282ba4554b1c8a8b11d8a0910319": {
          "model_module": "@jupyter-widgets/controls",
          "model_name": "DescriptionStyleModel",
          "state": {
            "_view_name": "StyleView",
            "_model_name": "DescriptionStyleModel",
            "description_width": "",
            "_view_module": "@jupyter-widgets/base",
            "_model_module_version": "1.5.0",
            "_view_count": null,
            "_view_module_version": "1.2.0",
            "_model_module": "@jupyter-widgets/controls"
          }
        },
        "311a6a70532542418a3937c3693587d7": {
          "model_module": "@jupyter-widgets/base",
          "model_name": "LayoutModel",
          "state": {
            "_view_name": "LayoutView",
            "grid_template_rows": null,
            "right": null,
            "justify_content": null,
            "_view_module": "@jupyter-widgets/base",
            "overflow": null,
            "_model_module_version": "1.2.0",
            "_view_count": null,
            "flex_flow": null,
            "width": null,
            "min_width": null,
            "border": null,
            "align_items": null,
            "bottom": null,
            "_model_module": "@jupyter-widgets/base",
            "top": null,
            "grid_column": null,
            "overflow_y": null,
            "overflow_x": null,
            "grid_auto_flow": null,
            "grid_area": null,
            "grid_template_columns": null,
            "flex": null,
            "_model_name": "LayoutModel",
            "justify_items": null,
            "grid_row": null,
            "max_height": null,
            "align_content": null,
            "visibility": null,
            "align_self": null,
            "height": null,
            "min_height": null,
            "padding": null,
            "grid_auto_rows": null,
            "grid_gap": null,
            "max_width": null,
            "order": null,
            "_view_module_version": "1.2.0",
            "grid_template_areas": null,
            "object_position": null,
            "object_fit": null,
            "grid_auto_columns": null,
            "margin": null,
            "display": null,
            "left": null
          }
        }
      }
    }
  },
  "cells": [
    {
      "cell_type": "markdown",
      "metadata": {
        "id": "E8tpJeOK9swB"
      },
      "source": [
        "# Inroduction\n",
        "Code-mixing represent several unseen difficulties to NLP tasks like:- \n",
        "* part-of-speech tagging\n",
        "* dependency parsing\n",
        "* machine translation and semantic processing. \n",
        "* word-level language\n",
        "* identification\n",
        "\n",
        "Sentiment analysis becomes more difficult in the situation when data is noisy and collected from the social media.Code-mixed text adopts the syntax and vocabulary of\n",
        "multiple languages. This becomes a challenge for sentiment analysis as traditional semantic analysis approaches do not capture the meaning of the sentences. Another challenge is the short abbreviated data present in the sentences. Same words can also be written in many forms in the sentence which is an another limitation. Pre-processing operations need to be performed to solve these challenges. This paper mainly focuses on pre-processing of tweet and to classify tweets into their corresponding sentiments-positive, negative or neutral.\n",
        "\n",
        "\n"
      ]
    },
    {
      "cell_type": "markdown",
      "metadata": {
        "id": "tP7XamGv_QGd"
      },
      "source": [
        "# Dataset Details\n",
        "\n",
        "\n",
        "> Follow this link for dataset details [Dataset](https://competitions.codalab.org/competitions/20654#participate)\n",
        "\n",
        "\n",
        "\n"
      ]
    },
    {
      "cell_type": "markdown",
      "metadata": {
        "id": "06qOeX6hDqNY"
      },
      "source": [
        "# Loading & Pre-Processing the Dataset\n",
        "\n",
        "\n",
        "\n"
      ]
    },
    {
      "cell_type": "code",
      "metadata": {
        "colab": {
          "base_uri": "https://localhost:8080/"
        },
        "id": "_tJzT2cHGsR1",
        "outputId": "a81905ec-9b4b-4e48-b021-d6b435c463ae"
      },
      "source": [
        "# Import re \"regular expression\" module\n",
        "import re\n",
        "print(\"re module is imported successfully\")\n"
      ],
      "execution_count": null,
      "outputs": [
        {
          "output_type": "stream",
          "text": [
            "re module is imported successfully\n"
          ],
          "name": "stdout"
        }
      ]
    },
    {
      "cell_type": "code",
      "metadata": {
        "id": "yO7OE5RgHXki"
      },
      "source": [
        "# Loading Train and Validation Datasets\n",
        "training_data = open('/content/train_data.txt', encoding='utf8').readlines()\n",
        "validation_data = open('/content/validation_data.txt', encoding='utf8').readlines()"
      ],
      "execution_count": null,
      "outputs": []
    },
    {
      "cell_type": "code",
      "metadata": {
        "id": "zHZFafj5Pbjm"
      },
      "source": [
        "print(training_data[0])\n",
        "print(validation_data[0])"
      ],
      "execution_count": null,
      "outputs": []
    },
    {
      "cell_type": "code",
      "metadata": {
        "id": "cWQjuwLUNlEc"
      },
      "source": [
        "from tqdm.notebook import tqdm"
      ],
      "execution_count": null,
      "outputs": []
    },
    {
      "cell_type": "code",
      "metadata": {
        "id": "S3YG2px2IC7D"
      },
      "source": [
        "# Parsing Function\n",
        "def parse_lines(lines):\n",
        "    tweet_id = [] \n",
        "    tweet = [] \n",
        "    lang_tag = [] \n",
        "    sentiment = [] \n",
        "    tweet_max_length = 0\n",
        "\n",
        "    print(\"Parsing lines from file...\")\n",
        "    for i, line in tqdm(enumerate(lines), total=len(lines)):\n",
        "        line = line.strip().split('\\t')\n",
        "        if line[0]=='meta':\n",
        "            if i!=0:\n",
        "                tweet_id.append(buffer_id)\n",
        "                tweet.append(buffer_tokens)\n",
        "                lang_tag.append(buffer_labels)\n",
        "                sentiment.append(buffer_sentiment)\n",
        "                if len(buffer_tokens) > tweet_max_length:\n",
        "                    max_length = len(buffer_tokens)\n",
        "            buffer_id = line[1]\n",
        "            try:\n",
        "                buffer_sentiment = line[2]\n",
        "            except:\n",
        "                buffer_sentiment = ''\n",
        "            buffer_tokens = []\n",
        "            buffer_labels = []\n",
        "        else:\n",
        "            buffer_tokens.append(line[0])\n",
        "            try:\n",
        "                buffer_labels.append(line[1])\n",
        "            except:\n",
        "                buffer_labels.append('')\n",
        "\n",
        "    tweet_id.append(buffer_id)\n",
        "    tweet.append(buffer_tokens)\n",
        "    lang_tag.append(buffer_labels)\n",
        "    sentiment.append(buffer_sentiment)\n",
        "    if len(buffer_tokens) > tweet_max_length:\n",
        "        tweet_max_length = len(buffer_tokens)\n",
        "    \n",
        "    return tweet_id, tweet, lang_tag, sentiment, tweet_max_length"
      ],
      "execution_count": null,
      "outputs": []
    },
    {
      "cell_type": "code",
      "metadata": {
        "colab": {
          "base_uri": "https://localhost:8080/",
          "height": 149,
          "referenced_widgets": [
            "55fd074d056d42ff805b86a646c61f6f",
            "709681a61ff74b3e99316560e972ecd0",
            "9500deb486d543f4b0ab5553727a91af",
            "83894f850a4c4595a64d01c7d123031c",
            "b2e84448edad44b384179c40a3e9bb16",
            "330ad87a5b964b52b07c1e189a0cbaeb",
            "2bcc8c7290374dea8c540903c43546ea",
            "13ca294b8c3d4fceb2d7caa1352b6318",
            "4dfdd60f44cf4f298d9f90a47b8adb28",
            "63bfcbb848414815ba3d802c6f4b7f55",
            "773b5423f5c242c98f486209911fd291",
            "aefbaceac21e4aa9abe4507efa0be19b",
            "360cb821dff4489c97243424e3ce8c5d",
            "85b6a81a6ef94e8080a747fafafdfdf9",
            "09ca3b2ecec64b97989a44a15471fd6a",
            "0f29a9140a774342a579882efa2ce94a"
          ]
        },
        "id": "b-SXpuTAPvPc",
        "outputId": "2b4edd78-5ba2-42a0-8974-f0772539305b"
      },
      "source": [
        "train_tweet_id, train_tweet, train_lang_tag, train_sentiment, train_tweet_max_length = parse_lines(training_data)\n",
        "valid_tweet_id, valid_tweet, valid_lang_tag, valid_sentiment, valid_tweet_max_length = parse_lines(validation_data)"
      ],
      "execution_count": null,
      "outputs": [
        {
          "output_type": "stream",
          "text": [
            "Parsing lines from file...\n"
          ],
          "name": "stdout"
        },
        {
          "output_type": "display_data",
          "data": {
            "application/vnd.jupyter.widget-view+json": {
              "model_id": "55fd074d056d42ff805b86a646c61f6f",
              "version_minor": 0,
              "version_major": 2
            },
            "text/plain": [
              "HBox(children=(FloatProgress(value=0.0, max=393560.0), HTML(value='')))"
            ]
          },
          "metadata": {
            "tags": []
          }
        },
        {
          "output_type": "stream",
          "text": [
            "\n",
            "Parsing lines from file...\n"
          ],
          "name": "stdout"
        },
        {
          "output_type": "display_data",
          "data": {
            "application/vnd.jupyter.widget-view+json": {
              "model_id": "4dfdd60f44cf4f298d9f90a47b8adb28",
              "version_minor": 0,
              "version_major": 2
            },
            "text/plain": [
              "HBox(children=(FloatProgress(value=0.0, max=84678.0), HTML(value='')))"
            ]
          },
          "metadata": {
            "tags": []
          }
        },
        {
          "output_type": "stream",
          "text": [
            "\n"
          ],
          "name": "stdout"
        }
      ]
    },
    {
      "cell_type": "code",
      "metadata": {
        "id": "2Z-nS5RsVPyH"
      },
      "source": [
        "# source: https://en.wikipedia.org/wiki/Contraction_%28grammar%29\n",
        "def load_dict_contractions():\n",
        "    return {\n",
        "        \"ain't\":\"is not\",\n",
        "        \"amn't\":\"am not\",\n",
        "        \"aren't\":\"are not\",\n",
        "        \"can't\":\"cannot\",\n",
        "        \"'cause\":\"because\",\n",
        "        \"couldn't\":\"could not\",\n",
        "        \"couldn't've\":\"could not have\",\n",
        "        \"could've\":\"could have\",\n",
        "        \"daren't\":\"dare not\",\n",
        "        \"daresn't\":\"dare not\",\n",
        "        \"dasn't\":\"dare not\",\n",
        "        \"didn't\":\"did not\",\n",
        "        \"doesn't\":\"does not\",\n",
        "        \"don't\":\"do not\",\n",
        "        \"e'er\":\"ever\",\n",
        "        \"em\":\"them\",\n",
        "        \"everyone's\":\"everyone is\",\n",
        "        \"finna\":\"fixing to\",\n",
        "        \"gimme\":\"give me\",\n",
        "        \"gonna\":\"going to\",\n",
        "        \"gon't\":\"go not\",\n",
        "        \"gotta\":\"got to\",\n",
        "        \"hadn't\":\"had not\",\n",
        "        \"hasn't\":\"has not\",\n",
        "        \"haven't\":\"have not\",\n",
        "        \"he'd\":\"he would\",\n",
        "        \"he'll\":\"he will\",\n",
        "        \"he's\":\"he is\",\n",
        "        \"he've\":\"he have\",\n",
        "        \"how'd\":\"how would\",\n",
        "        \"how'll\":\"how will\",\n",
        "        \"how're\":\"how are\",\n",
        "        \"how's\":\"how is\",\n",
        "        \"I'd\":\"I would\",\n",
        "        \"I'll\":\"I will\",\n",
        "        \"I'm\":\"I am\",\n",
        "        \"I'm'a\":\"I am about to\",\n",
        "        \"I'm'o\":\"I am going to\",\n",
        "        \"isn't\":\"is not\",\n",
        "        \"it'd\":\"it would\",\n",
        "        \"it'll\":\"it will\",\n",
        "        \"it's\":\"it is\",\n",
        "        \"I've\":\"I have\",\n",
        "        \"kinda\":\"kind of\",\n",
        "        \"let's\":\"let us\",\n",
        "        \"mayn't\":\"may not\",\n",
        "        \"may've\":\"may have\",\n",
        "        \"mightn't\":\"might not\",\n",
        "        \"might've\":\"might have\",\n",
        "        \"mustn't\":\"must not\",\n",
        "        \"mustn't've\":\"must not have\",\n",
        "        \"must've\":\"must have\",\n",
        "        \"needn't\":\"need not\",\n",
        "        \"ne'er\":\"never\",\n",
        "        \"o'\":\"of\",\n",
        "        \"o'er\":\"over\",\n",
        "        \"ol'\":\"old\",\n",
        "        \"oughtn't\":\"ought not\",\n",
        "        \"shalln't\":\"shall not\",\n",
        "        \"shan't\":\"shall not\",\n",
        "        \"she'd\":\"she would\",\n",
        "        \"she'll\":\"she will\",\n",
        "        \"she's\":\"she is\",\n",
        "        \"shouldn't\":\"should not\",\n",
        "        \"shouldn't've\":\"should not have\",\n",
        "        \"should've\":\"should have\",\n",
        "        \"somebody's\":\"somebody is\",\n",
        "        \"someone's\":\"someone is\",\n",
        "        \"something's\":\"something is\",\n",
        "        \"that'd\":\"that would\",\n",
        "        \"that'll\":\"that will\",\n",
        "        \"that're\":\"that are\",\n",
        "        \"that's\":\"that is\",\n",
        "        \"there'd\":\"there would\",\n",
        "        \"there'll\":\"there will\",\n",
        "        \"there're\":\"there are\",\n",
        "        \"there's\":\"there is\",\n",
        "        \"these're\":\"these are\",\n",
        "        \"they'd\":\"they would\",\n",
        "        \"they'll\":\"they will\",\n",
        "        \"they're\":\"they are\",\n",
        "        \"they've\":\"they have\",\n",
        "        \"this's\":\"this is\",\n",
        "        \"those're\":\"those are\",\n",
        "        \"'tis\":\"it is\",\n",
        "        \"'twas\":\"it was\",\n",
        "        \"wanna\":\"want to\",\n",
        "        \"wasn't\":\"was not\",\n",
        "        \"we'd\":\"we would\",\n",
        "        \"we'd've\":\"we would have\",\n",
        "        \"we'll\":\"we will\",\n",
        "        \"we're\":\"we are\",\n",
        "        \"weren't\":\"were not\",\n",
        "        \"we've\":\"we have\",\n",
        "        \"what'd\":\"what did\",\n",
        "        \"what'll\":\"what will\",\n",
        "        \"what're\":\"what are\",\n",
        "        \"what's\":\"what is\",\n",
        "        \"what've\":\"what have\",\n",
        "        \"when's\":\"when is\",\n",
        "        \"where'd\":\"where did\",\n",
        "        \"where're\":\"where are\",\n",
        "        \"where's\":\"where is\",\n",
        "        \"where've\":\"where have\",\n",
        "        \"which's\":\"which is\",\n",
        "        \"who'd\":\"who would\",\n",
        "        \"who'd've\":\"who would have\",\n",
        "        \"who'll\":\"who will\",\n",
        "        \"who're\":\"who are\",\n",
        "        \"who's\":\"who is\",\n",
        "        \"who've\":\"who have\",\n",
        "        \"why'd\":\"why did\",\n",
        "        \"why're\":\"why are\",\n",
        "        \"why's\":\"why is\",\n",
        "        \"won't\":\"will not\",\n",
        "        \"wouldn't\":\"would not\",\n",
        "        \"would've\":\"would have\",\n",
        "        \"y'all\":\"you all\",\n",
        "        \"you'd\":\"you would\",\n",
        "        \"you'll\":\"you will\",\n",
        "        \"you're\":\"you are\",\n",
        "        \"you've\":\"you have\",\n",
        "        \"Whatcha\":\"What are you\",\n",
        "        \"luv\":\"love\",\n",
        "        \"sux\":\"sucks\"\n",
        "        }"
      ],
      "execution_count": null,
      "outputs": []
    },
    {
      "cell_type": "code",
      "metadata": {
        "colab": {
          "base_uri": "https://localhost:8080/"
        },
        "id": "RtAUZN4PZSn9",
        "outputId": "027504fd-e587-4e2c-ff8c-37c5abf6247a"
      },
      "source": [
        "!pip install emoji"
      ],
      "execution_count": null,
      "outputs": [
        {
          "output_type": "stream",
          "text": [
            "Collecting emoji\n",
            "\u001b[?25l  Downloading https://files.pythonhosted.org/packages/24/fa/b3368f41b95a286f8d300e323449ab4e86b85334c2e0b477e94422b8ed0f/emoji-1.2.0-py3-none-any.whl (131kB)\n",
            "\r\u001b[K     |██▌                             | 10kB 19.9MB/s eta 0:00:01\r\u001b[K     |█████                           | 20kB 24.1MB/s eta 0:00:01\r\u001b[K     |███████▌                        | 30kB 17.5MB/s eta 0:00:01\r\u001b[K     |██████████                      | 40kB 15.3MB/s eta 0:00:01\r\u001b[K     |████████████▌                   | 51kB 9.3MB/s eta 0:00:01\r\u001b[K     |███████████████                 | 61kB 7.7MB/s eta 0:00:01\r\u001b[K     |█████████████████▌              | 71kB 8.7MB/s eta 0:00:01\r\u001b[K     |████████████████████            | 81kB 9.6MB/s eta 0:00:01\r\u001b[K     |██████████████████████▌         | 92kB 10.3MB/s eta 0:00:01\r\u001b[K     |█████████████████████████       | 102kB 7.8MB/s eta 0:00:01\r\u001b[K     |███████████████████████████▌    | 112kB 7.8MB/s eta 0:00:01\r\u001b[K     |██████████████████████████████  | 122kB 7.8MB/s eta 0:00:01\r\u001b[K     |████████████████████████████████| 133kB 7.8MB/s \n",
            "\u001b[?25hInstalling collected packages: emoji\n",
            "Successfully installed emoji-1.2.0\n"
          ],
          "name": "stdout"
        }
      ]
    },
    {
      "cell_type": "code",
      "metadata": {
        "id": "HZxS9ka7ZK-r"
      },
      "source": [
        "import emoji\n",
        "import itertools"
      ],
      "execution_count": null,
      "outputs": []
    },
    {
      "cell_type": "code",
      "metadata": {
        "id": "i0rct41MXtSl",
        "colab": {
          "base_uri": "https://localhost:8080/"
        },
        "outputId": "8636bb9c-a7d6-4e35-9920-28a2594eb70b"
      },
      "source": [
        "def pre_processing_each_tweet(tweet):\n",
        "    \n",
        "    # Converting tweet into lowercase\n",
        "    tweet = tweet.lower()\n",
        "\n",
        "    # replace contractions\n",
        "    CONTRACTIONS = load_dict_contractions()\n",
        "    tweet = tweet.replace(\"’\",\"'\")\n",
        "    words = tweet.split()\n",
        "    for word in words:\n",
        "      if word==\"'\":\n",
        "        ind  = words.index(word)\n",
        "        if (ind!=len(words)-1):\n",
        "          word = words[ind-1]+word+words[ind+1]\n",
        "          words[ind] = word\n",
        "          words.pop(ind-1)\n",
        "          words.pop(ind)\n",
        "  \n",
        "    reformed = [CONTRACTIONS[word] if word in CONTRACTIONS else word for word in words]\n",
        "    tweet = \" \".join(reformed)\n",
        "\n",
        "    \n",
        "    # demojize emojis \n",
        "    tweet = emoji.demojize(tweet)\n",
        "    \n",
        "    # other cleaning\n",
        "    tweet = tweet.replace(\":\",\" \")\n",
        "    tweet = ' '.join(tweet.split())\n",
        "\n",
        "    # Replace repeating characters with maximum length of two characters\n",
        "    tweet = re.sub(r\"(.)\\1{2,}\", r'\\1\\1', tweet)\n",
        "\n",
        "    return tweet\n",
        "\n",
        "# train_tweet_test = ['cittttty', 'ciiiity', 'cccciiiittttyyyy', 'citttyyyy', 'ciitty', '!!!','...']\n",
        "# pre_train_tweet = pre_processing_each_tweet(' '.join(train_tweet_test)).split(' ')\n",
        "\n",
        "# print(train_tweet_test)\n",
        "# print(pre_train_tweet)\n",
        "\n",
        "print(train_tweet[1])\n",
        "pre_train_tweet = pre_processing_each_tweet(' '.join(train_tweet[1])).split(' ')\n",
        "print(pre_train_tweet)"
      ],
      "execution_count": null,
      "outputs": [
        {
          "output_type": "stream",
          "text": [
            "['@', 'nehantics', 'Haan', 'yaar', 'neha', '😔😔', 'kab', 'karega', 'woh', 'post', '😭', 'Usne', 'na', 'sach', 'mein', 'photoshoot', 'karna', 'chahiye', 'phir', 'woh', 'post', 'karega', '…', 'https', '//', 'tco', '/', '5RSlSbZNtt', '']\n",
            "['@', 'nehantics', 'haan', 'yaar', 'neha', 'pensive_face', 'pensive_face', 'kab', 'karega', 'woh', 'post', 'loudly_crying_face', 'usne', 'na', 'sach', 'mein', 'photoshoot', 'karna', 'chahiye', 'phir', 'woh', 'post', 'karega', '…', 'https', '//', 'tco', '/', '5rslsbzntt']\n"
          ],
          "name": "stdout"
        }
      ]
    },
    {
      "cell_type": "code",
      "metadata": {
        "id": "ZfGOXaUHpsUB"
      },
      "source": [
        "def pre_processing_tweets(tweets):\n",
        "    for i in range(len(tweets)):\n",
        "        tweet = pre_processing_each_tweet(' '.join(tweets[i])).split(' ')\n",
        "        tweets[i] = []\n",
        "        j=0\n",
        "        while j<len(tweet):\n",
        "            tweets[i].append(tweet[j])\n",
        "            j+=1\n",
        "        \n",
        "    return tweets"
      ],
      "execution_count": null,
      "outputs": []
    },
    {
      "cell_type": "code",
      "metadata": {
        "id": "6aQyf_vMrA79"
      },
      "source": [
        "# Pre-Processing the data\n",
        "pre_processed_training_data = pre_processing_tweets(train_tweet)\n",
        "pre_processed_validation_data = pre_processing_tweets(valid_tweet)"
      ],
      "execution_count": null,
      "outputs": []
    },
    {
      "cell_type": "code",
      "metadata": {
        "id": "58OVjjSYt1ts"
      },
      "source": [
        "from tensorflow.keras.preprocessing.text import Tokenizer\n",
        "from tensorflow.keras.preprocessing.sequence import pad_sequences"
      ],
      "execution_count": null,
      "outputs": []
    },
    {
      "cell_type": "code",
      "metadata": {
        "id": "EOE42B_Dwe3V"
      },
      "source": [
        "# vocab_size = \n",
        "embedding_dim = 16\n",
        "max_length = 50\n",
        "trunc_type='post'\n",
        "padding='post'\n",
        "oov_tok = \"<OOV>\""
      ],
      "execution_count": null,
      "outputs": []
    },
    {
      "cell_type": "code",
      "metadata": {
        "id": "aHdtKPyBuxVR"
      },
      "source": [
        "tokenizer = Tokenizer(num_words = None, oov_token=oov_tok)\n",
        "tokenizer.fit_on_texts(pre_processed_training_data)\n",
        "word_index = tokenizer.word_index\n",
        "training_sequences = tokenizer.texts_to_sequences(pre_processed_training_data)\n",
        "training_padded = pad_sequences(training_sequences,maxlen=max_length, truncating=trunc_type, padding=padding)\n",
        "\n",
        "validation_sequences = tokenizer.texts_to_sequences(pre_processed_validation_data)\n",
        "validation_padded = pad_sequences(validation_sequences,maxlen=max_length)"
      ],
      "execution_count": null,
      "outputs": []
    },
    {
      "cell_type": "code",
      "metadata": {
        "colab": {
          "base_uri": "https://localhost:8080/"
        },
        "id": "SJ1c14ReZKHV",
        "outputId": "b88cfa33-d86b-48b1-ca6e-bd179d516575"
      },
      "source": [
        "total_words = len(word_index)\n",
        "print(total_words)"
      ],
      "execution_count": null,
      "outputs": [
        {
          "output_type": "stream",
          "text": [
            "48876\n"
          ],
          "name": "stdout"
        }
      ]
    },
    {
      "cell_type": "code",
      "metadata": {
        "id": "93omawPF0zlV"
      },
      "source": [
        "from sklearn import preprocessing\n",
        "from tensorflow.keras.utils import to_categorical"
      ],
      "execution_count": null,
      "outputs": []
    },
    {
      "cell_type": "code",
      "metadata": {
        "colab": {
          "base_uri": "https://localhost:8080/"
        },
        "id": "CGIHkh-X0nyb",
        "outputId": "fc24dc8a-4fcb-461f-cf1c-b33f42059b9e"
      },
      "source": [
        "# output label encoding\n",
        "le = preprocessing.LabelEncoder()\n",
        "le.fit(train_sentiment)\n",
        "print(le.classes_)\n",
        "\n",
        "training_labels = to_categorical(le.transform(train_sentiment))\n",
        "\n",
        "validation_labels = to_categorical(le.transform(valid_sentiment))"
      ],
      "execution_count": null,
      "outputs": [
        {
          "output_type": "stream",
          "text": [
            "['negative' 'neutral' 'positive']\n"
          ],
          "name": "stdout"
        }
      ]
    },
    {
      "cell_type": "markdown",
      "metadata": {
        "id": "IlbsTHcwKI5Y"
      },
      "source": [
        "# CNN Model"
      ]
    },
    {
      "cell_type": "code",
      "metadata": {
        "id": "sq8Te7f_3Lo3"
      },
      "source": [
        "import tensorflow as tf\n",
        "import numpy as np\n",
        "import pandas as pd"
      ],
      "execution_count": null,
      "outputs": []
    },
    {
      "cell_type": "code",
      "metadata": {
        "id": "znQlmdvbyN6S"
      },
      "source": [
        "# CNN Model Hyper-Parameters\n",
        "kernel_size = 5\n",
        "filters = 128\n",
        "cnn_optimizer = 'adamax'"
      ],
      "execution_count": null,
      "outputs": []
    },
    {
      "cell_type": "code",
      "metadata": {
        "id": "yuyKyUmi0Ou-"
      },
      "source": [
        "cnn_model = tf.keras.Sequential([\n",
        "    tf.keras.layers.Embedding(total_words+1, embedding_dim, input_length=max_length),\n",
        "    tf.keras.layers.Conv1D(filters, kernel_size, activation='relu'),\n",
        "    tf.keras.layers.GlobalAveragePooling1D(),\n",
        "    # tf.keras.layers.MaxPooling1D(pool_size=3),\n",
        "    # tf.keras.layers.Flatten(),\n",
        "    tf.keras.layers.Dense(6, activation='relu'),\n",
        "    tf.keras.layers.Dense(3, activation='softmax')\n",
        "])\n",
        "cnn_model.compile(loss='categorical_crossentropy',\n",
        "              optimizer=cnn_optimizer,\n",
        "              metrics=['accuracy'])\n",
        "cnn_model.summary()"
      ],
      "execution_count": null,
      "outputs": []
    },
    {
      "cell_type": "code",
      "metadata": {
        "id": "LZiKxkff1aWG"
      },
      "source": [
        "cnn_history = cnn_model.fit(training_padded, training_labels,\n",
        "          validation_data=(validation_padded,validation_labels),\n",
        "          epochs=15)"
      ],
      "execution_count": null,
      "outputs": []
    },
    {
      "cell_type": "code",
      "metadata": {
        "id": "JZo0WnGK3_ss"
      },
      "source": [
        "import matplotlib.pyplot as plt\n",
        "\n",
        "\n",
        "def plot_graphs(history, string):\n",
        "  plt.plot(cnn_history.history[string])\n",
        "  plt.plot(cnn_history.history['val_'+string])\n",
        "  plt.xlabel(\"Epochs\")\n",
        "  plt.ylabel(string)\n",
        "  plt.legend([string, 'val_'+string])\n",
        "  plt.show()\n",
        "  \n",
        "plot_graphs(cnn_history, \"accuracy\")\n",
        "plot_graphs(cnn_history, \"loss\")"
      ],
      "execution_count": null,
      "outputs": []
    },
    {
      "cell_type": "markdown",
      "metadata": {
        "id": "m4vW5hf_MTwU"
      },
      "source": [
        "# LSTM Model\n"
      ]
    },
    {
      "cell_type": "code",
      "metadata": {
        "id": "HVvPgLe79wJb"
      },
      "source": [
        "# LSTM Hyper-Parameters\n",
        "lstm_units = 16\n",
        "lstm_recurrent_dropout = 0.2\n",
        "lstm_dropout = 0.2"
      ],
      "execution_count": null,
      "outputs": []
    },
    {
      "cell_type": "code",
      "metadata": {
        "id": "ug0aSvKn9dQo"
      },
      "source": [
        "# Model Definition with LSTM\n",
        "lstm_model = tf.keras.Sequential([\n",
        "    tf.keras.layers.Embedding(total_words, 16, input_length=max_length),\n",
        "    tf.keras.layers.LSTM(units=lstm_units),\n",
        "    tf.keras.layers.Dense(6, activation='relu'),\n",
        "    tf.keras.layers.Dense(3, activation='softmax')\n",
        "])\n",
        "lstm_model.compile(loss='categorical_crossentropy',optimizer='adamax',metrics=['accuracy'])\n",
        "lstm_model.summary()\n"
      ],
      "execution_count": null,
      "outputs": []
    },
    {
      "cell_type": "code",
      "metadata": {
        "id": "_kY7dx3PCWmf"
      },
      "source": [
        "lstm_history = lstm_model.fit(training_padded, training_labels,\n",
        "          validation_data=(validation_padded,validation_labels),\n",
        "          epochs=10)"
      ],
      "execution_count": null,
      "outputs": []
    },
    {
      "cell_type": "code",
      "metadata": {
        "id": "4902cLYnCiHt"
      },
      "source": [
        "import matplotlib.pyplot as plt\n",
        "\n",
        "\n",
        "def plot_graphs(history, string):\n",
        "  plt.plot(lstm_history.history[string])\n",
        "  plt.plot(lstm_history.history['val_'+string])\n",
        "  plt.xlabel(\"Epochs\")\n",
        "  plt.ylabel(string)\n",
        "  plt.legend([string, 'val_'+string])\n",
        "  plt.show()\n",
        "  \n",
        "plot_graphs(lstm_history, \"accuracy\")\n",
        "plot_graphs(lstm_history, \"loss\")"
      ],
      "execution_count": null,
      "outputs": []
    },
    {
      "cell_type": "markdown",
      "metadata": {
        "id": "_-uOp1IANCuO"
      },
      "source": [
        "# Bi-LSTM Model"
      ]
    },
    {
      "cell_type": "code",
      "metadata": {
        "id": "yO_0vhKDGp3h"
      },
      "source": [
        "# LSTM Hyper-Parameters\n",
        "bi_lstm_units = 128\n",
        "bi_lstm_recurrent_dropout = 0.2\n",
        "bi_lstm_dropout = 0.2"
      ],
      "execution_count": null,
      "outputs": []
    },
    {
      "cell_type": "code",
      "metadata": {
        "id": "Uv0NZ9SI9qFS"
      },
      "source": [
        "# Model Definition with LSTM\n",
        "bi_lstm_model = tf.keras.Sequential([\n",
        "    tf.keras.layers.Embedding(total_words, 16, input_length=max_length),\n",
        "    tf.keras.layers.Bidirectional(tf.keras.layers.LSTM(units=bi_lstm_units)),\n",
        "    tf.keras.layers.Dense(6, activation='relu'),\n",
        "    tf.keras.layers.Dense(3, activation='softmax')\n",
        "])\n",
        "bi_lstm_model.compile(loss='categorical_crossentropy',optimizer='adamax',metrics=['accuracy'])\n",
        "bi_lstm_model.summary()"
      ],
      "execution_count": null,
      "outputs": []
    },
    {
      "cell_type": "code",
      "metadata": {
        "id": "yDiD1vBeHkae"
      },
      "source": [
        "bi_lstm_history = bi_lstm_model.fit(training_padded, training_labels,\n",
        "          validation_data=(validation_padded,validation_labels),\n",
        "          epochs=15)"
      ],
      "execution_count": null,
      "outputs": []
    },
    {
      "cell_type": "code",
      "metadata": {
        "id": "WPR0z4_5H1W_"
      },
      "source": [
        "import matplotlib.pyplot as plt\n",
        "\n",
        "\n",
        "def plot_graphs(history, string):\n",
        "  plt.plot(bi_lstm_history.history[string])\n",
        "  plt.plot(bi_lstm_history.history['val_'+string])\n",
        "  plt.xlabel(\"Epochs\")\n",
        "  plt.ylabel(string)\n",
        "  plt.legend([string, 'val_'+string])\n",
        "  plt.show()\n",
        "  \n",
        "plot_graphs(bi_lstm_history, \"accuracy\")\n",
        "plot_graphs(bi_lstm_history, \"loss\")"
      ],
      "execution_count": null,
      "outputs": []
    },
    {
      "cell_type": "markdown",
      "metadata": {
        "id": "Rh_lxGU2PTrz"
      },
      "source": [
        "# Testing the Models\n",
        "\n"
      ]
    },
    {
      "cell_type": "code",
      "metadata": {
        "id": "4geBOwEnWPR2"
      },
      "source": [
        "from sklearn.metrics import classification_report"
      ],
      "execution_count": null,
      "outputs": []
    },
    {
      "cell_type": "code",
      "metadata": {
        "id": "KzctoRxPPbZ3"
      },
      "source": [
        "#Loading Test Dataset\n",
        "testing_data = open('/content/test_data.txt', encoding='utf8').readlines()"
      ],
      "execution_count": null,
      "outputs": []
    },
    {
      "cell_type": "code",
      "metadata": {
        "colab": {
          "base_uri": "https://localhost:8080/",
          "height": 83,
          "referenced_widgets": [
            "e1b180c2184540bfa25eac97d3ef7ff6",
            "05763f277d7f47b1b564b34c46e6df17",
            "a643f8c7a92e470c8c1f678cdb20951c",
            "371366a23c6d4b76bc5daf7516bbdbb2",
            "a48a9ab1dbd347beaed55ec0b43acf60",
            "29ee078b9b984839b96a7d5111f3f9ec",
            "da68282ba4554b1c8a8b11d8a0910319",
            "311a6a70532542418a3937c3693587d7"
          ]
        },
        "id": "PSzHDvUiPubS",
        "outputId": "2802ef19-8960-4ba0-cc56-ab0ca1a6fa51"
      },
      "source": [
        "test_tweet_id, test_tweet, test_lang_tag, test_sentiment, test_tweet_max_length = parse_lines(testing_data)"
      ],
      "execution_count": null,
      "outputs": [
        {
          "output_type": "stream",
          "text": [
            "Parsing lines from file...\n"
          ],
          "name": "stdout"
        },
        {
          "output_type": "display_data",
          "data": {
            "application/vnd.jupyter.widget-view+json": {
              "model_id": "e1b180c2184540bfa25eac97d3ef7ff6",
              "version_minor": 0,
              "version_major": 2
            },
            "text/plain": [
              "HBox(children=(FloatProgress(value=0.0, max=84362.0), HTML(value='')))"
            ]
          },
          "metadata": {
            "tags": []
          }
        },
        {
          "output_type": "stream",
          "text": [
            "\n"
          ],
          "name": "stdout"
        }
      ]
    },
    {
      "cell_type": "code",
      "metadata": {
        "id": "XHSh8N8JQaeH"
      },
      "source": [
        "pre_processed_testing_data = pre_processing_tweets(test_tweet)"
      ],
      "execution_count": null,
      "outputs": []
    },
    {
      "cell_type": "code",
      "metadata": {
        "id": "VbmDovG4QoFU"
      },
      "source": [
        "testing_sequences = tokenizer.texts_to_sequences(pre_processed_testing_data)\n",
        "testing_padded = pad_sequences(testing_sequences,maxlen=max_length)"
      ],
      "execution_count": null,
      "outputs": []
    },
    {
      "cell_type": "code",
      "metadata": {
        "id": "PTgPeU3fQ8EL"
      },
      "source": [
        "cnn_predictions = cnn_model.predict(testing_padded)\n",
        "cnn_predictions = np.argmax(cnn_predictions,axis=-1)\n",
        "\n",
        "# write predictions to file\n",
        "with open('cnn_preds.txt', 'w') as out:\n",
        "    out.write('Uid,Sentiment')\n",
        "    for i, uid in enumerate(test_tweet_id):\n",
        "        if cnn_predictions[i] == 0:\n",
        "            sentiment = 'negative'\n",
        "        elif cnn_predictions[i] == 1:\n",
        "            sentiment = 'neutral'\n",
        "        else:\n",
        "            sentiment = 'positive'\n",
        "        out.write(\"\\n%s,%s\"%(uid, sentiment))"
      ],
      "execution_count": null,
      "outputs": []
    },
    {
      "cell_type": "code",
      "metadata": {
        "id": "EXNu7qU2S_P_"
      },
      "source": [
        "\n",
        "lstm_predictions = lstm_model.predict(testing_padded)\n",
        "lstm_predictions = np.argmax(lstm_predictions,axis=-1)\n",
        "\n",
        "# write predictions to file\n",
        "with open('lstm_preds.txt', 'w') as out:\n",
        "    out.write('Uid,Sentiment')\n",
        "    for i, uid in enumerate(test_tweet_id):\n",
        "        if lstm_predictions[i] == 0:\n",
        "            sentiment = 'negative'\n",
        "        elif lstm_predictions[i] == 1:\n",
        "            sentiment = 'neutral'\n",
        "        else:\n",
        "            sentiment = 'positive'\n",
        "        out.write(\"\\n%s,%s\"%(uid, sentiment))"
      ],
      "execution_count": null,
      "outputs": []
    },
    {
      "cell_type": "code",
      "metadata": {
        "id": "TYXEloDpTAYW"
      },
      "source": [
        "\n",
        "bi_lstm_predictions = bi_lstm_model.predict(testing_padded)\n",
        "bi_lstm_predictions = np.argmax(bi_lstm_predictions,axis=-1)\n",
        "\n",
        "# write predictions to file\n",
        "with open('bi_lstm_preds.txt', 'w') as out:\n",
        "    out.write('Uid,Sentiment')\n",
        "    for i, uid in enumerate(test_tweet_id):\n",
        "        if bi_lstm_predictions[i] == 0:\n",
        "            sentiment = 'negative'\n",
        "        elif bi_lstm_predictions[i] == 1:\n",
        "            sentiment = 'neutral'\n",
        "        else:\n",
        "            sentiment = 'positive'\n",
        "        out.write(\"\\n%s,%s\"%(uid, sentiment))"
      ],
      "execution_count": null,
      "outputs": []
    },
    {
      "cell_type": "code",
      "metadata": {
        "id": "TXaSoMRORcWC"
      },
      "source": [
        "# load correct labels\n",
        "test = pd.read_csv('/content/test_labels.txt')\n",
        "# load predictions\n",
        "cnn_preds = pd.read_csv('/content/cnn_preds.txt')\n",
        "# lstm_preds = pd.read_csv('/content/lstm_preds.txt')\n",
        "# bi_lstm_preds = pd.read_csv('/content/bi_lstm_preds.txt')\n",
        "\n",
        "# compute evaluation metrics\n",
        "results = {'cnn_preds': classification_report(test['Sentiment'], \n",
        "                                          cnn_preds['Sentiment'], \n",
        "                                          labels=['positive', 'neutral', 'negative'], \n",
        "                                          output_dict=True, digits=6)\n",
        "          #  'lstm_preds': classification_report(test['Sentiment'], \n",
        "          #                                 lstm_preds['Sentiment'], \n",
        "          #                                 labels=['positive', 'neutral', 'negative'], \n",
        "          #                                 output_dict=True, digits=6),\n",
        "          #  'bi_lstm_preds': classification_report(test['Sentiment'], \n",
        "          #                                 bi_lstm_preds['Sentiment'], \n",
        "          #                                 labels=['positive', 'neutral', 'negative'], \n",
        "          #                                 output_dict=True, digits=6),\n",
        "}"
      ],
      "execution_count": null,
      "outputs": []
    },
    {
      "cell_type": "code",
      "metadata": {
        "colab": {
          "base_uri": "https://localhost:8080/"
        },
        "id": "OSQgFAK9UZha",
        "outputId": "7c9f5812-2f95-41c3-d75b-c36462650693"
      },
      "source": [
        "# format and print scores\n",
        "formatted_results = [['model', 'precision', 'recall', 'accuracy', 'f1-score']]\n",
        "for ki in results.keys():\n",
        "    scores = results[ki]['macro avg']\n",
        "    model = [ki, scores['precision'], scores['recall'], results[ki]['accuracy'], scores['f1-score']]\n",
        "    formatted_results.append(model)\n",
        "    \n",
        "formatted_results = pd.DataFrame(formatted_results[1:], columns=formatted_results[0])\n",
        "print(formatted_results)"
      ],
      "execution_count": null,
      "outputs": [
        {
          "output_type": "stream",
          "text": [
            "       model  precision    recall  accuracy  f1-score\n",
            "0  cnn_preds   0.649452  0.638933     0.638  0.642569\n"
          ],
          "name": "stdout"
        }
      ]
    },
    {
      "cell_type": "code",
      "metadata": {
        "id": "GGk_wNEHUeSc"
      },
      "source": [
        "# model  precision    recall  accuracy  f1-score\n",
        "# 0      cnn_preds   0.669827  0.651923     0.651  0.657892\n",
        "# 1     lstm_preds   0.552983  0.356939     0.359  0.222178\n",
        "# 2  bi_lstm_preds   0.737094  0.418081     0.448  0.345919"
      ],
      "execution_count": null,
      "outputs": []
    },
    {
      "cell_type": "markdown",
      "metadata": {
        "id": "Ty5nRuePpsJc"
      },
      "source": [
        "# Saving the Models\n"
      ]
    },
    {
      "cell_type": "markdown",
      "metadata": {
        "id": "Ub6a2c0jES6k"
      },
      "source": [
        "# Deployment Using Anvil\n",
        "\n",
        "\n",
        ">  Steps to connect colab with anvil app:\n",
        "\n",
        "* Added getpass prompt so you can add your apps Uplink key\n",
        "* Install the anvil-uplink library\n",
        "* Import the anvil.server package\n",
        "* Connect the notebook using your apps Uplink key\n",
        "* Create a function to call from your app that includes the  anvil.server.callable decorator\n",
        "* Add anvil.server.wait_forever() to the end of the notebook\n",
        "\n"
      ]
    },
    {
      "cell_type": "code",
      "metadata": {
        "id": "O_q5ZmlsE2uj"
      },
      "source": [
        "#Added getpass prompt so you can add your apps Uplink key\n",
        "from getpass import getpass\n",
        "uplink_key = getpass('Enter your Uplink key: ')"
      ],
      "execution_count": null,
      "outputs": []
    },
    {
      "cell_type": "code",
      "metadata": {
        "id": "enxeF0jHFBYu"
      },
      "source": [
        "#Install the anvil-uplink library\n",
        "!pip install anvil-uplink"
      ],
      "execution_count": null,
      "outputs": []
    },
    {
      "cell_type": "code",
      "metadata": {
        "id": "5cq05j7NFWYg"
      },
      "source": [
        "import anvil.server"
      ],
      "execution_count": null,
      "outputs": []
    },
    {
      "cell_type": "code",
      "metadata": {
        "colab": {
          "base_uri": "https://localhost:8080/"
        },
        "id": "C4qNLqqnFpHj",
        "outputId": "51771581-5eda-4d7e-8a80-6804e0ea8279"
      },
      "source": [
        "anvil.server.connect(uplink_key)"
      ],
      "execution_count": null,
      "outputs": [
        {
          "output_type": "stream",
          "text": [
            "Connecting to wss://anvil.works/uplink\n",
            "Anvil websocket open\n",
            "Connected to \"Default environment (dev)\" as SERVER\n"
          ],
          "name": "stdout"
        }
      ]
    },
    {
      "cell_type": "code",
      "metadata": {
        "id": "jfWEfy5AFrv-"
      },
      "source": [
        "@anvil.server.callable\n",
        "def predict_sentiment(input_message):\n",
        "  print(input_message)\n",
        "  tweets = []\n",
        "  tweets.append(input_message)\n",
        "  input_message_sequences = tokenizer.texts_to_sequences(tweets) \n",
        "  print(input_message_sequences)\n",
        "  input_message_padded = pad_sequences(input_message_sequences,maxlen=max_length)\n",
        "  classification = cnn_model.predict(input_message_padded)\n",
        "  print(classification)\n",
        "  classification = np.argmax(classification,axis=-1)\n",
        "  print(classification)\n",
        "  if classification == 0:\n",
        "    sentiment = 'negative'\n",
        "    \n",
        "  elif classification == 1:\n",
        "    sentiment = 'neutral'\n",
        "\n",
        "  else:\n",
        "    sentiment = 'positive'\n",
        "    \n",
        "  print(sentiment)\n",
        "  return sentiment"
      ],
      "execution_count": null,
      "outputs": []
    },
    {
      "cell_type": "code",
      "metadata": {
        "id": "F97nYRsmJSro"
      },
      "source": [
        "anvil.server.wait_forever()"
      ],
      "execution_count": null,
      "outputs": []
    }
  ]
}